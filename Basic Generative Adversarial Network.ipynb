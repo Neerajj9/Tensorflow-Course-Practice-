{
 "cells": [
  {
   "cell_type": "code",
   "execution_count": 19,
   "metadata": {},
   "outputs": [],
   "source": [
    "import tensorflow as tf\n",
    "import numpy as np\n",
    "import pandas as pd\n",
    "import matplotlib.pyplot as plt\n",
    "import tqdm\n",
    "import cv2\n",
    "from tensorflow.examples.tutorials.mnist import input_data"
   ]
  },
  {
   "cell_type": "code",
   "execution_count": 4,
   "metadata": {},
   "outputs": [
    {
     "name": "stdout",
     "output_type": "stream",
     "text": [
      "Extracting MNIST_data/train-images-idx3-ubyte.gz\n",
      "Extracting MNIST_data/train-labels-idx1-ubyte.gz\n",
      "Extracting MNIST_data/t10k-images-idx3-ubyte.gz\n",
      "Extracting MNIST_data/t10k-labels-idx1-ubyte.gz\n"
     ]
    }
   ],
   "source": [
    "data = input_data.read_data_sets('MNIST_data/')"
   ]
  },
  {
   "cell_type": "code",
   "execution_count": 5,
   "metadata": {},
   "outputs": [],
   "source": [
    "def generator(z , reuse = None):\n",
    "    with tf.variable_scope('gen' , reuse=reuse):\n",
    "        hidden1 = tf.layers.dense(inputs=z , units=128)\n",
    "        hidden1 = tf.nn.leaky_relu(hidden1,alpha=0.01)\n",
    "        \n",
    "        hidden2 = tf.layers.dense(inputs=hidden1 , units=128)\n",
    "        hidden2 = tf.nn.leaky_relu(hidden2,alpha=0.01)\n",
    "        \n",
    "        output = tf.layers.dense(hidden2, units = 784 , activation=tf.nn.tanh)\n",
    "            \n",
    "        return output\n",
    "        "
   ]
  },
  {
   "cell_type": "code",
   "execution_count": 6,
   "metadata": {},
   "outputs": [],
   "source": [
    "def discriminator(x , reuse = None):\n",
    "    with tf.variable_scope('disc' , reuse=reuse):\n",
    "        hidden1 = tf.layers.dense(inputs=x , units=128)\n",
    "        hidden1 = tf.nn.leaky_relu(hidden1,alpha=0.01)\n",
    "        \n",
    "        hidden2 = tf.layers.dense(inputs=hidden1 , units=128)\n",
    "        hidden2 = tf.nn.leaky_relu(hidden2,alpha=0.01)\n",
    "        \n",
    "        hidden3 = tf.layers.dense(inputs=hidden2 , units=64)\n",
    "        hidden3 = tf.nn.leaky_relu(hidden3,alpha=0.01)\n",
    "        \n",
    "        \n",
    "        out = tf.layers.dense(hidden2, units = 1)\n",
    "        \n",
    "        output = tf.sigmoid(out)\n",
    "        \n",
    "        return output,out"
   ]
  },
  {
   "cell_type": "code",
   "execution_count": 7,
   "metadata": {},
   "outputs": [],
   "source": [
    "inp_x = tf.placeholder(tf.float32 , shape=[None,784])\n",
    "inp_z = tf.placeholder(tf.float32 , shape=[None,100])\n",
    "y_pred = tf.placeholder(tf.float32 , shape=[None,1])"
   ]
  },
  {
   "cell_type": "code",
   "execution_count": 9,
   "metadata": {},
   "outputs": [],
   "source": [
    "G = generator(inp_z , reuse= False)"
   ]
  },
  {
   "cell_type": "code",
   "execution_count": 10,
   "metadata": {},
   "outputs": [],
   "source": [
    "D_real,D_logits_real = discriminator(inp_x , reuse=False)\n",
    "D_fake,D_logits_fake = discriminator(G , reuse=True)"
   ]
  },
  {
   "cell_type": "code",
   "execution_count": 11,
   "metadata": {},
   "outputs": [],
   "source": [
    "def loss(l_in,l_out):\n",
    "    loss = tf.reduce_mean(tf.nn.sigmoid_cross_entropy_with_logits(logits=l_in , labels=l_out))\n",
    "    return loss"
   ]
  },
  {
   "cell_type": "code",
   "execution_count": 12,
   "metadata": {},
   "outputs": [],
   "source": [
    "D_real_loss = loss(D_logits_real,tf.ones_like(D_logits_real)*0.9)\n",
    "D_fake_loss = loss(D_logits_fake,tf.zeros_like(D_logits_fake))\n",
    "d_loss = D_real_loss + D_fake_loss\n",
    "G_loss = loss(D_logits_fake,tf.ones_like(D_logits_fake)*0.9)"
   ]
  },
  {
   "cell_type": "code",
   "execution_count": 13,
   "metadata": {},
   "outputs": [],
   "source": [
    "learning_rate = 0.001"
   ]
  },
  {
   "cell_type": "code",
   "execution_count": 14,
   "metadata": {},
   "outputs": [],
   "source": [
    "tvars = tf.trainable_variables()\n",
    "d_vars = [var for var in tvars if 'dis' in var.name]\n",
    "g_vars = [var for var in tvars if 'gen' in var.name]"
   ]
  },
  {
   "cell_type": "code",
   "execution_count": 15,
   "metadata": {},
   "outputs": [
    {
     "data": {
      "text/plain": [
       "[<tf.Variable 'disc/dense/kernel:0' shape=(784, 128) dtype=float32_ref>,\n",
       " <tf.Variable 'disc/dense/bias:0' shape=(128,) dtype=float32_ref>,\n",
       " <tf.Variable 'disc/dense_1/kernel:0' shape=(128, 128) dtype=float32_ref>,\n",
       " <tf.Variable 'disc/dense_1/bias:0' shape=(128,) dtype=float32_ref>,\n",
       " <tf.Variable 'disc/dense_2/kernel:0' shape=(128, 64) dtype=float32_ref>,\n",
       " <tf.Variable 'disc/dense_2/bias:0' shape=(64,) dtype=float32_ref>,\n",
       " <tf.Variable 'disc/dense_3/kernel:0' shape=(128, 1) dtype=float32_ref>,\n",
       " <tf.Variable 'disc/dense_3/bias:0' shape=(1,) dtype=float32_ref>]"
      ]
     },
     "execution_count": 15,
     "metadata": {},
     "output_type": "execute_result"
    }
   ],
   "source": [
    "d_vars"
   ]
  },
  {
   "cell_type": "code",
   "execution_count": 16,
   "metadata": {},
   "outputs": [],
   "source": [
    "D_train = tf.train.AdamOptimizer(learning_rate).minimize(d_loss,var_list = d_vars)"
   ]
  },
  {
   "cell_type": "code",
   "execution_count": 17,
   "metadata": {},
   "outputs": [],
   "source": [
    "G_train = tf.train.AdamOptimizer(learning_rate).minimize(G_loss , var_list = g_vars)"
   ]
  },
  {
   "cell_type": "code",
   "execution_count": 51,
   "metadata": {
    "scrolled": true
   },
   "outputs": [
    {
     "name": "stderr",
     "output_type": "stream",
     "text": [
      "\n",
      "  0%|          | 0/1 [00:00<?, ?it/s]\u001b[A\n",
      "100%|██████████| 1/1 [00:01<00:00,  1.88s/it]\u001b[A\n",
      "\u001b[A"
     ]
    }
   ],
   "source": [
    "init = tf.global_variables_initializer()\n",
    "\n",
    "epochs = 100\n",
    "batch_size = 100\n",
    "samples = []\n",
    "\n",
    "with tf.Session() as sess:\n",
    "    sess.run(init)\n",
    "    \n",
    "    for i in tqdm.tqdm(range(epochs)):\n",
    "        \n",
    "        num_batches = data.train.num_examples//batch_size\n",
    "        \n",
    "        for i in range(num_batches):\n",
    "            \n",
    "            batch = data.train.next_batch(batch_size)\n",
    "            batch_images = batch[0].reshape((batch_size,784))\n",
    "            batch_images = batch_images*2 - 1\n",
    "            \n",
    "            batch_z  = np.random.uniform(-1,1,size=(batch_size,100)) \n",
    "            \n",
    "            _  = sess.run(D_train , feed_dict = {inp_x : batch_images  , inp_z : batch_z})\n",
    "            _  = sess.run(G_train , feed_dict = {inp_z:batch_z}) \n",
    "        \n",
    "        sample_z = np.random.uniform(-1, 1, size=(1, 100))\n",
    "        gen_sample = sess.run(generator(inp_z ,reuse=True),feed_dict={inp_z: sample_z})\n",
    "        samples.append(gen_sample)\n",
    "        saver.save(sess,'model/model200')"
   ]
  },
  {
   "cell_type": "code",
   "execution_count": 53,
   "metadata": {
    "scrolled": false
   },
   "outputs": [
    {
     "data": {
      "image/png": "[encoded data removed]",
      "text/plain": [
       "<Figure size 432x288 with 1 Axes>"
      ]
     },
     "metadata": {},
     "output_type": "display_data"
    },
    {
     "data": {
      "image/png": "[encoded data removed]",
      "text/plain": [
       "<Figure size 432x288 with 1 Axes>"
      ]
     },
     "metadata": {},
     "output_type": "display_data"
    },
    {
     "data": {
      "image/png": "[encoded data removed]",
      "text/plain": [
       "<Figure size 432x288 with 1 Axes>"
      ]
     },
     "metadata": {},
     "output_type": "display_data"
    },
    {
     "data": {
      "image/png": "[encoded data removed]",
      "text/plain": [
       "<Figure size 432x288 with 1 Axes>"
      ]
     },
     "metadata": {},
     "output_type": "display_data"
    },
    {
     "data": {
      "image/png": "[encoded data removed]",
      "text/plain": [
       "<Figure size 432x288 with 1 Axes>"
      ]
     },
     "metadata": {},
     "output_type": "display_data"
    },
    {
     "data": {
      "image/png": "[encoded data removed]",
      "text/plain": [
       "<Figure size 432x288 with 1 Axes>"
      ]
     },
     "metadata": {},
     "output_type": "display_data"
    },
    {
     "data": {
      "image/png": "[encoded data removed]",
      "text/plain": [
       "<Figure size 432x288 with 1 Axes>"
      ]
     },
     "metadata": {},
     "output_type": "display_data"
    },
    {
     "data": {
      "image/png": "[encoded data removed]",
      "text/plain": [
       "<Figure size 432x288 with 1 Axes>"
      ]
     },
     "metadata": {},
     "output_type": "display_data"
    },
    {
     "data": {
      "image/png": "[encoded data removed]",
      "text/plain": [
       "<Figure size 432x288 with 1 Axes>"
      ]
     },
     "metadata": {},
     "output_type": "display_data"
    },
    {
     "data": {
      "image/png": "[encoded data removed]",
      "text/plain": [
       "<Figure size 432x288 with 1 Axes>"
      ]
     },
     "metadata": {},
     "output_type": "display_data"
    },
    {
     "data": {
      "image/png": "[encoded data removed]",
      "text/plain": [
       "<Figure size 432x288 with 1 Axes>"
      ]
     },
     "metadata": {},
     "output_type": "display_data"
    },
    {
     "data": {
      "image/png": "[encoded data removed]",
      "text/plain": [
       "<Figure size 432x288 with 1 Axes>"
      ]
     },
     "metadata": {},
     "output_type": "display_data"
    },
    {
     "data": {
      "image/png": "[encoded data removed]",
      "text/plain": [
       "<Figure size 432x288 with 1 Axes>"
      ]
     },
     "metadata": {},
     "output_type": "display_data"
    },
    {
     "data": {
      "image/png": "[encoded data removed]",
      "text/plain": [
       "<Figure size 432x288 with 1 Axes>"
      ]
     },
     "metadata": {},
     "output_type": "display_data"
    }
   ],
   "source": [
    "for i in range(85,99):\n",
    "    plt.imshow(samples[i].reshape(28,28) , cmap = 'gray')\n",
    "    plt.show()"
   ]
  },
  {
   "cell_type": "code",
   "execution_count": null,
   "metadata": {},
   "outputs": [],
   "source": []
  }
 ],
 "metadata": {
  "kernelspec": {
   "display_name": "Python 3",
   "language": "python",
   "name": "python3"
  },
  "language_info": {
   "codemirror_mode": {
    "name": "ipython",
    "version": 3
   },
   "file_extension": ".py",
   "mimetype": "text/x-python",
   "name": "python",
   "nbconvert_exporter": "python",
   "pygments_lexer": "ipython3",
   "version": "3.6.5"
  }
 },
 "nbformat": 4,
 "nbformat_minor": 2
}
