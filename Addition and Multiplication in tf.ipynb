{
 "cells": [
  {
   "cell_type": "code",
   "execution_count": 8,
   "metadata": {},
   "outputs": [],
   "source": [
    "import tensorflow as tf\n",
    "import numpy as np"
   ]
  },
  {
   "cell_type": "code",
   "execution_count": 4,
   "metadata": {},
   "outputs": [
    {
     "name": "stdout",
     "output_type": "stream",
     "text": [
      "1.9.0\n"
     ]
    }
   ],
   "source": [
    "print(tf.__version__)"
   ]
  },
  {
   "cell_type": "code",
   "execution_count": 5,
   "metadata": {},
   "outputs": [],
   "source": [
    "a = tf.placeholder(tf.float32)\n",
    "b = tf.placeholder(tf.float32)"
   ]
  },
  {
   "cell_type": "code",
   "execution_count": 16,
   "metadata": {},
   "outputs": [],
   "source": [
    "addition = a + b\n",
    "mult = a * b"
   ]
  },
  {
   "cell_type": "code",
   "execution_count": 22,
   "metadata": {},
   "outputs": [],
   "source": [
    "mat_a = np.random.uniform(0,1,(4,4))\n",
    "mat_b = np.random.uniform(0,1,(4,4))"
   ]
  },
  {
   "cell_type": "code",
   "execution_count": 27,
   "metadata": {},
   "outputs": [],
   "source": [
    "with tf.Session() as sess:\n",
    "    multi = sess.run(mult , feed_dict = {a:mat_a , b:mat_b})\n",
    "    add = sess.run(addition , feed_dict = {a:mat_a , b:mat_b})"
   ]
  },
  {
   "cell_type": "code",
   "execution_count": 28,
   "metadata": {},
   "outputs": [
    {
     "data": {
      "text/plain": [
       "array([[0.70900604, 0.34274075, 0.37810498, 0.56639318],\n",
       "       [0.63886715, 0.79596048, 0.88327875, 0.05192663],\n",
       "       [0.96930903, 0.06342309, 0.59497196, 0.05718683],\n",
       "       [0.07801077, 0.70939545, 0.35657649, 0.42073812]])"
      ]
     },
     "execution_count": 28,
     "metadata": {},
     "output_type": "execute_result"
    }
   ],
   "source": [
    "mat_a"
   ]
  },
  {
   "cell_type": "code",
   "execution_count": 29,
   "metadata": {},
   "outputs": [
    {
     "data": {
      "text/plain": [
       "array([[0.99739935, 0.45368988, 0.03194228, 0.89366468],\n",
       "       [0.79141064, 0.21748523, 0.0760056 , 0.37376041],\n",
       "       [0.56670851, 0.81557004, 0.32809624, 0.36919558],\n",
       "       [0.80913586, 0.87374848, 0.74997732, 0.83769218]])"
      ]
     },
     "execution_count": 29,
     "metadata": {},
     "output_type": "execute_result"
    }
   ],
   "source": [
    "mat_b"
   ]
  },
  {
   "cell_type": "code",
   "execution_count": 30,
   "metadata": {},
   "outputs": [
    {
     "data": {
      "text/plain": [
       "array([[0.7071622 , 0.155498  , 0.01207754, 0.50616556],\n",
       "       [0.50560623, 0.17310965, 0.06713413, 0.01940812],\n",
       "       [0.5493157 , 0.05172596, 0.19520806, 0.02111313],\n",
       "       [0.06312132, 0.61983323, 0.2674243 , 0.35244906]], dtype=float32)"
      ]
     },
     "execution_count": 30,
     "metadata": {},
     "output_type": "execute_result"
    }
   ],
   "source": [
    "multi"
   ]
  },
  {
   "cell_type": "code",
   "execution_count": 31,
   "metadata": {},
   "outputs": [
    {
     "data": {
      "text/plain": [
       "array([[1.7064054 , 0.7964306 , 0.41004726, 1.4600579 ],\n",
       "       [1.4302778 , 1.0134457 , 0.9592843 , 0.42568702],\n",
       "       [1.5360175 , 0.87899315, 0.92306817, 0.42638242],\n",
       "       [0.88714665, 1.583144  , 1.1065538 , 1.2584304 ]], dtype=float32)"
      ]
     },
     "execution_count": 31,
     "metadata": {},
     "output_type": "execute_result"
    }
   ],
   "source": [
    "add"
   ]
  },
  {
   "cell_type": "code",
   "execution_count": null,
   "metadata": {},
   "outputs": [],
   "source": []
  }
 ],
 "metadata": {
  "kernelspec": {
   "display_name": "Python 3",
   "language": "python",
   "name": "python3"
  },
  "language_info": {
   "codemirror_mode": {
    "name": "ipython",
    "version": 3
   },
   "file_extension": ".py",
   "mimetype": "text/x-python",
   "name": "python",
   "nbconvert_exporter": "python",
   "pygments_lexer": "ipython3",
   "version": "3.6.5"
  }
 },
 "nbformat": 4,
 "nbformat_minor": 2
}
